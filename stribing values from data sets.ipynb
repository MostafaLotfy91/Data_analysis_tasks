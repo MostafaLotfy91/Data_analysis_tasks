{
 "cells": [
  {
   "cell_type": "markdown",
   "id": "departmental-turner",
   "metadata": {},
   "source": [
    "stribing values from data sets"
   ]
  },
  {
   "cell_type": "code",
   "execution_count": 1,
   "id": "sublime-kazakhstan",
   "metadata": {},
   "outputs": [],
   "source": [
    "import numpy as np "
   ]
  },
  {
   "cell_type": "code",
   "execution_count": null,
   "id": "final-stranger",
   "metadata": {},
   "outputs": [],
   "source": []
  },
  {
   "cell_type": "code",
   "execution_count": 2,
   "id": "ordinary-coffee",
   "metadata": {},
   "outputs": [
    {
     "data": {
      "text/plain": [
       "array([['id_1', 'Product B', 'Location 2'],\n",
       "       ['id_2', 'Product B', 'Location 3'],\n",
       "       ['id_3', 'Product C', 'Location 5'],\n",
       "       ...,\n",
       "       ['id_413', 'Product B', 'Location 135'],\n",
       "       ['id_414', 'Product C', 'Location 200'],\n",
       "       ['id_415', 'Product A', 'Location 8']], dtype='<U12')"
      ]
     },
     "execution_count": 2,
     "metadata": {},
     "output_type": "execute_result"
    }
   ],
   "source": [
    "Lending = np.genfromtxt(\"Lending-Company-Total-Price.csv\" , delimiter = ',', dtype = np.str,\n",
    "                       skip_header = 1 ,\n",
    "                       usecols = [1,2,4])\n",
    "Lending"
   ]
  },
  {
   "cell_type": "code",
   "execution_count": 3,
   "id": "incorrect-preview",
   "metadata": {},
   "outputs": [
    {
     "data": {
      "text/plain": [
       "array([['1', ' B', '2'],\n",
       "       ['2', ' B', '3'],\n",
       "       ['3', ' C', '5'],\n",
       "       ...,\n",
       "       ['413', ' B', '135'],\n",
       "       ['414', ' C', '200'],\n",
       "       ['415', ' A', '8']], dtype='<U12')"
      ]
     },
     "execution_count": 3,
     "metadata": {},
     "output_type": "execute_result"
    }
   ],
   "source": [
    "Lending[:,0] = np.chararray.strip(Lending[:,0],\"id_\")\n",
    "Lending[:,1] = np.chararray.strip(Lending[:,1],\"Product\")\n",
    "Lending[:,2] = np.chararray.strip(Lending[:,2],\"Location \")\n",
    "Lending"
   ]
  },
  {
   "cell_type": "code",
   "execution_count": 4,
   "id": "productive-sunglasses",
   "metadata": {},
   "outputs": [
    {
     "data": {
      "text/plain": [
       "array([['1', '2', '2'],\n",
       "       ['2', '2', '3'],\n",
       "       ['3', '3', '5'],\n",
       "       ...,\n",
       "       ['413', '2', '135'],\n",
       "       ['414', '3', '200'],\n",
       "       ['415', '1', '8']], dtype='<U12')"
      ]
     },
     "execution_count": 4,
     "metadata": {},
     "output_type": "execute_result"
    }
   ],
   "source": [
    "Lending[:,1] = np.where( Lending[:,1] == ' A' , 1 , Lending[:,1] )\n",
    "Lending[:,1] = np.where( Lending[:,1] == ' B' , 2 , Lending[:,1] )\n",
    "Lending[:,1] = np.where( Lending[:,1] == ' C' , 3 , Lending[:,1] )\n",
    "Lending[:,1] = np.where( Lending[:,1] == ' D' , 4 , Lending[:,1] )\n",
    "Lending[:,1] = np.where( Lending[:,1] == ' E' , 5 , Lending[:,1] )\n",
    "Lending[:,1] = np.where( Lending[:,1] == ' F' , 6 , Lending[:,1] )\n",
    "Lending"
   ]
  },
  {
   "cell_type": "code",
   "execution_count": 5,
   "id": "sound-webmaster",
   "metadata": {},
   "outputs": [
    {
     "data": {
      "text/plain": [
       "array([[  1,   2,   2],\n",
       "       [  2,   2,   3],\n",
       "       [  3,   3,   5],\n",
       "       ...,\n",
       "       [413,   2, 135],\n",
       "       [414,   3, 200],\n",
       "       [415,   1,   8]], dtype=int32)"
      ]
     },
     "execution_count": 5,
     "metadata": {},
     "output_type": "execute_result"
    }
   ],
   "source": [
    "Lending = Lending.astype(dtype = np.int32)\n",
    "Lending"
   ]
  }
 ],
 "metadata": {
  "kernelspec": {
   "display_name": "Python 3",
   "language": "python",
   "name": "python3"
  },
  "language_info": {
   "codemirror_mode": {
    "name": "ipython",
    "version": 3
   },
   "file_extension": ".py",
   "mimetype": "text/x-python",
   "name": "python",
   "nbconvert_exporter": "python",
   "pygments_lexer": "ipython3",
   "version": "3.7.9"
  }
 },
 "nbformat": 4,
 "nbformat_minor": 5
}
