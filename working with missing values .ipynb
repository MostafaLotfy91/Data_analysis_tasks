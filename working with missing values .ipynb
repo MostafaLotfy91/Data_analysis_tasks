{
 "cells": [
  {
   "cell_type": "markdown",
   "id": "turkish-academy",
   "metadata": {},
   "source": [
    "importing liberary and data file "
   ]
  },
  {
   "cell_type": "code",
   "execution_count": 1,
   "id": "registered-savings",
   "metadata": {},
   "outputs": [],
   "source": [
    "import numpy as np"
   ]
  },
  {
   "cell_type": "code",
   "execution_count": 2,
   "id": "declared-accountability",
   "metadata": {
    "scrolled": true
   },
   "outputs": [
    {
     "data": {
      "text/plain": [
       "array([[ 2000.,    40.,   365.,  3121.,  4241., 13621.],\n",
       "       [ 2000.,    40.,   365.,  3061.,  4171., 15041.],\n",
       "       [ 1000.,    40.,   365.,  2160.,  3280., 15340.],\n",
       "       ...,\n",
       "       [   nan,    40.,   365.,  4201.,  5001., 16600.],\n",
       "       [ 1000.,    40.,   365.,  2080.,  3320., 15600.],\n",
       "       [ 2000.,    40.,   365.,  4601.,  4601., 16600.]])"
      ]
     },
     "execution_count": 2,
     "metadata": {},
     "output_type": "execute_result"
    }
   ],
   "source": [
    "array11= np.genfromtxt(\"Lending-company-Numeric-NAN.csv\" , delimiter = ';') # first way\n",
    "array11"
   ]
  },
  {
   "cell_type": "code",
   "execution_count": 3,
   "id": "diverse-toronto",
   "metadata": {},
   "outputs": [],
   "source": [
    "# array11= np.loadtxt(\"Lending-company-Numeric-NAN.csv\" , delimiter = ';' , dtype= str) # secound way\n",
    "# array11"
   ]
  },
  {
   "cell_type": "code",
   "execution_count": 4,
   "id": "higher-moscow",
   "metadata": {},
   "outputs": [
    {
     "data": {
      "text/plain": [
       "260"
      ]
     },
     "execution_count": 4,
     "metadata": {},
     "output_type": "execute_result"
    }
   ],
   "source": [
    "np.isnan(array11).sum()"
   ]
  },
  {
   "cell_type": "code",
   "execution_count": 5,
   "id": "armed-unemployment",
   "metadata": {},
   "outputs": [],
   "source": [
    "temp_mean = np.nanmean(array11, axis = 0).round(2)"
   ]
  },
  {
   "cell_type": "code",
   "execution_count": 6,
   "id": "weekly-proxy",
   "metadata": {},
   "outputs": [
    {
     "data": {
      "text/plain": [
       "2250.25"
      ]
     },
     "execution_count": 6,
     "metadata": {},
     "output_type": "execute_result"
    }
   ],
   "source": [
    "temp_mean[0]"
   ]
  },
  {
   "cell_type": "code",
   "execution_count": 7,
   "id": "oriental-resistance",
   "metadata": {},
   "outputs": [],
   "source": [
    "temp_filling = np.nanmax(array11).round(2)+1\n",
    "array11 = np.genfromtxt(\"Lending-company-Numeric-NAN.csv\" , delimiter = ';' ,filling_values = temp_filling)  "
   ]
  },
  {
   "cell_type": "code",
   "execution_count": 8,
   "id": "fossil-synthetic",
   "metadata": {},
   "outputs": [
    {
     "data": {
      "text/plain": [
       "64002.0"
      ]
     },
     "execution_count": 8,
     "metadata": {},
     "output_type": "execute_result"
    }
   ],
   "source": [
    "temp_filling"
   ]
  },
  {
   "cell_type": "code",
   "execution_count": 9,
   "id": "sacred-efficiency",
   "metadata": {},
   "outputs": [
    {
     "data": {
      "text/plain": [
       "4263.25"
      ]
     },
     "execution_count": 9,
     "metadata": {},
     "output_type": "execute_result"
    }
   ],
   "source": [
    "np.nanmean(array11[:,0], axis = 0).round(2)"
   ]
  },
  {
   "cell_type": "code",
   "execution_count": 10,
   "id": "editorial-thesis",
   "metadata": {},
   "outputs": [],
   "source": [
    "array11[:,0] = np.where(array11[:,0]== temp_filling,\n",
    "                        temp_mean[0],\n",
    "                       array11[:,0])"
   ]
  },
  {
   "cell_type": "code",
   "execution_count": 11,
   "id": "educational-annotation",
   "metadata": {},
   "outputs": [
    {
     "data": {
      "text/plain": [
       "2250.25"
      ]
     },
     "execution_count": 11,
     "metadata": {},
     "output_type": "execute_result"
    }
   ],
   "source": [
    "np.nanmean(array11[:,0], axis = 0).round(2)"
   ]
  },
  {
   "cell_type": "code",
   "execution_count": 12,
   "id": "hundred-religion",
   "metadata": {},
   "outputs": [],
   "source": [
    "for i in range(array11.shape[1]):\n",
    "              array11[:,i] = np.where(array11[:,i]== temp_filling,\n",
    "                        temp_mean[i],\n",
    "                       array11[:,i])\n",
    "             "
   ]
  },
  {
   "cell_type": "code",
   "execution_count": 13,
   "id": "determined-carnival",
   "metadata": {},
   "outputs": [],
   "source": [
    "for i in range(array11.shape[1]):\n",
    "              array11[:,i] = np.where(array11[:,i]<0,\n",
    "                        0,\n",
    "                       array11[:,i])\n",
    "             "
   ]
  },
  {
   "cell_type": "code",
   "execution_count": 14,
   "id": "worse-paris",
   "metadata": {},
   "outputs": [],
   "source": [
    "for i in range(array11.shape[0]):\n",
    "              array11[0,:] = np.where(array11[0,:]<0,\n",
    "                        0,\n",
    "                       array11[0,:])\n",
    "             "
   ]
  },
  {
   "cell_type": "code",
   "execution_count": 15,
   "id": "amber-insulation",
   "metadata": {},
   "outputs": [
    {
     "data": {
      "text/plain": [
       "array([[ 2000.  ,    40.  ,   365.  ,  3121.  ,  4241.  , 13621.  ],\n",
       "       [ 2000.  ,    40.  ,   365.  ,  3061.  ,  4171.  , 15041.  ],\n",
       "       [ 1000.  ,    40.  ,   365.  ,  2160.  ,  3280.  , 15340.  ],\n",
       "       ...,\n",
       "       [ 2250.25,    40.  ,   365.  ,  4201.  ,  5001.  , 16600.  ],\n",
       "       [ 1000.  ,    40.  ,   365.  ,  2080.  ,  3320.  , 15600.  ],\n",
       "       [ 2000.  ,    40.  ,   365.  ,  4601.  ,  4601.  , 16600.  ]])"
      ]
     },
     "execution_count": 15,
     "metadata": {},
     "output_type": "execute_result"
    }
   ],
   "source": [
    "array11"
   ]
  },
  {
   "cell_type": "code",
   "execution_count": 16,
   "id": "essential-elder",
   "metadata": {},
   "outputs": [
    {
     "data": {
      "text/plain": [
       "0"
      ]
     },
     "execution_count": 16,
     "metadata": {},
     "output_type": "execute_result"
    }
   ],
   "source": [
    "np.isnan(array11).sum()"
   ]
  },
  {
   "cell_type": "code",
   "execution_count": 17,
   "id": "strong-planning",
   "metadata": {},
   "outputs": [],
   "source": [
    "np.savetxt(\"Lending-company-Numeric-NAN-after-preprocessing.csv\", array11 ,fmt = \"%s\" , delimiter = ';')"
   ]
  },
  {
   "cell_type": "code",
   "execution_count": null,
   "id": "guided-explorer",
   "metadata": {},
   "outputs": [],
   "source": []
  }
 ],
 "metadata": {
  "kernelspec": {
   "display_name": "Python 3",
   "language": "python",
   "name": "python3"
  },
  "language_info": {
   "codemirror_mode": {
    "name": "ipython",
    "version": 3
   },
   "file_extension": ".py",
   "mimetype": "text/x-python",
   "name": "python",
   "nbconvert_exporter": "python",
   "pygments_lexer": "ipython3",
   "version": "3.7.9"
  }
 },
 "nbformat": 4,
 "nbformat_minor": 5
}
